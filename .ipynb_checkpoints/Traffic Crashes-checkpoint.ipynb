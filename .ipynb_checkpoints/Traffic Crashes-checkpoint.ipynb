{
 "cells": [
  {
   "cell_type": "markdown",
   "metadata": {},
   "source": [
    "# VandyHacks March HackNight 2018 - Intro to data science with Python \n",
    "\n",
    "### In this notebook:\n",
    "- Basics of Jupyter Notebook, Pandas, and plotting\n",
    "- Usage of Nashville Open Data to analyze traffic accidents\n",
    "- Commented code! "
   ]
  },
  {
   "cell_type": "markdown",
   "metadata": {},
   "source": [
    "## Basics of Jupyter / IPython "
   ]
  },
  {
   "cell_type": "markdown",
   "metadata": {},
   "source": [
    "__What is Jupyter?__\n",
    "Jupyter is a program that runs *IPython* notebooks. These are like R or Wolfram notebooks, but for Python. These allow you to play around with code and display output using a single kernel, so you don't have to edit a single script and run it entirely everytime you make a change.\n",
    "\n",
    "There are 2 modes to use - Command Mode and Edit Mode. Press `ESC` to use Command Mode, and `ENTER` on any cell to edit it.\n",
    "\n",
    "\n",
    "In __Command Mode__:\n",
    "- View **Help** -> **Keyboard Shortcuts** to see helpful shortcuts. \n",
    "- `a` is to add a cell below,  `b` to add a cell above. Press `d` twice to delete a cell.\n",
    "- `CTRL + ENTER` to run a cell.\n",
    "\n",
    "In __Edit Mode__:\n",
    "- Autocomplete works pretty well, this is more than just a text editor! Try using `TAB` whenever helpful.\n",
    "\n",
    "\n",
    "\n",
    "\n",
    "__What is Pandas?__\n",
    "\n",
    "\n",
    "Pandas is *the* python package you use for data manipulation. Some terminology:\n",
    "- *DataFrame* - A standard table object\n",
    "- *Series* - A specialized kind of vector - it usually is a single column of a DataFrame.\n",
    "\n",
    "__What is matplotlib?__\n",
    "\n",
    "\n",
    "matplotlib is another python package used for plotting data, and is the base package for almost every other Python data viz package. It works well with pandas and numpy. "
   ]
  },
  {
   "cell_type": "markdown",
   "metadata": {},
   "source": [
    "## The Code"
   ]
  },
  {
   "cell_type": "code",
   "execution_count": 1,
   "metadata": {
    "collapsed": true
   },
   "outputs": [],
   "source": [
    "%matplotlib inline\n",
    "\n",
    "import pandas as pd \n",
    "import numpy as np\n",
    "import matplotlib.pyplot as plt\n",
    "import seaborn as sns # a package that extends on matplotlib"
   ]
  },
  {
   "cell_type": "code",
   "execution_count": 2,
   "metadata": {
    "scrolled": true
   },
   "outputs": [
    {
     "name": "stdout",
     "output_type": "stream",
     "text": [
      "Index(['Accident Number', 'Date and Time', 'Number of Motor Vehicles',\n",
      "       'Number of Injuries', 'Number of Fatalities', 'Property Damage',\n",
      "       'Hit and Run', 'Reporting Officer', 'Collision Type',\n",
      "       'Collision Type Description', 'Weather', 'Weather Description',\n",
      "       'Illumination', 'Illumination Description', 'Harmful Codes',\n",
      "       'Harmful Codes Description', 'Street Address', 'City', 'State', 'Zip',\n",
      "       'RPA', 'Precinct', 'Latitude', 'Longitude', 'Mapped Location'],\n",
      "      dtype='object')\n",
      "(34187, 25)\n"
     ]
    },
    {
     "data": {
      "text/html": [
       "<div>\n",
       "<table border=\"1\" class=\"dataframe\">\n",
       "  <thead>\n",
       "    <tr style=\"text-align: right;\">\n",
       "      <th></th>\n",
       "      <th>Accident Number</th>\n",
       "      <th>Date and Time</th>\n",
       "      <th>Number of Motor Vehicles</th>\n",
       "      <th>Number of Injuries</th>\n",
       "      <th>Number of Fatalities</th>\n",
       "      <th>Property Damage</th>\n",
       "      <th>Hit and Run</th>\n",
       "      <th>Reporting Officer</th>\n",
       "      <th>Collision Type</th>\n",
       "      <th>Collision Type Description</th>\n",
       "      <th>...</th>\n",
       "      <th>Harmful Codes Description</th>\n",
       "      <th>Street Address</th>\n",
       "      <th>City</th>\n",
       "      <th>State</th>\n",
       "      <th>Zip</th>\n",
       "      <th>RPA</th>\n",
       "      <th>Precinct</th>\n",
       "      <th>Latitude</th>\n",
       "      <th>Longitude</th>\n",
       "      <th>Mapped Location</th>\n",
       "    </tr>\n",
       "  </thead>\n",
       "  <tbody>\n",
       "    <tr>\n",
       "      <th>0</th>\n",
       "      <td>20110822774</td>\n",
       "      <td>03/29/2017 07:21:00 AM</td>\n",
       "      <td>2</td>\n",
       "      <td>0</td>\n",
       "      <td>0</td>\n",
       "      <td>NaN</td>\n",
       "      <td>N</td>\n",
       "      <td>256439.0</td>\n",
       "      <td>11.0</td>\n",
       "      <td>Front to Rear</td>\n",
       "      <td>...</td>\n",
       "      <td>MOTOR VEHICLE IN TRANSPORT</td>\n",
       "      <td>MM 210 7 I 40</td>\n",
       "      <td>NASHVILLE</td>\n",
       "      <td>TN</td>\n",
       "      <td>37210.0</td>\n",
       "      <td>8202.0</td>\n",
       "      <td>HERMIT</td>\n",
       "      <td>36.15323</td>\n",
       "      <td>-86.76442</td>\n",
       "      <td>MM 210 7 I 40\\nNASHVILLE, TN 37210\\n(36.153230...</td>\n",
       "    </tr>\n",
       "    <tr>\n",
       "      <th>1</th>\n",
       "      <td>20150551770</td>\n",
       "      <td>06/23/2017 12:49:00 PM</td>\n",
       "      <td>4</td>\n",
       "      <td>1</td>\n",
       "      <td>1</td>\n",
       "      <td>NaN</td>\n",
       "      <td>N</td>\n",
       "      <td>405404.0</td>\n",
       "      <td>4.0</td>\n",
       "      <td>ANGLE</td>\n",
       "      <td>...</td>\n",
       "      <td>MOTOR VEHICLE IN TRANSPORT</td>\n",
       "      <td>CHARLOTTE PKE &amp; I40 E ENT RAMP</td>\n",
       "      <td>NASHVILLE</td>\n",
       "      <td>TN</td>\n",
       "      <td>37205.0</td>\n",
       "      <td>5007.0</td>\n",
       "      <td>WEST</td>\n",
       "      <td>36.13188</td>\n",
       "      <td>-86.89553</td>\n",
       "      <td>CHARLOTTE PKE &amp;amp; I40 E ENT RAMP\\nNASHVILLE,...</td>\n",
       "    </tr>\n",
       "    <tr>\n",
       "      <th>2</th>\n",
       "      <td>20160003224</td>\n",
       "      <td>01/02/2017 09:55:00 AM</td>\n",
       "      <td>1</td>\n",
       "      <td>0</td>\n",
       "      <td>0</td>\n",
       "      <td>NaN</td>\n",
       "      <td>N</td>\n",
       "      <td>225886.0</td>\n",
       "      <td>0.0</td>\n",
       "      <td>NOT COLLISION W/MOTOR VEHICLE-TRANSPORT</td>\n",
       "      <td>...</td>\n",
       "      <td>BRIDGE RAIL</td>\n",
       "      <td>I40 W ENT RAMP &amp; I40 E EXT RAMP</td>\n",
       "      <td>HERMITAGE</td>\n",
       "      <td>TN</td>\n",
       "      <td>37076.0</td>\n",
       "      <td>9506.0</td>\n",
       "      <td>HERMIT</td>\n",
       "      <td>36.17553</td>\n",
       "      <td>-86.60592</td>\n",
       "      <td>I40 W ENT RAMP &amp;amp; I40 E EXT RAMP\\nHERMITAGE...</td>\n",
       "    </tr>\n",
       "    <tr>\n",
       "      <th>3</th>\n",
       "      <td>20160016701</td>\n",
       "      <td>01/06/2017 08:00:00 AM</td>\n",
       "      <td>1</td>\n",
       "      <td>0</td>\n",
       "      <td>0</td>\n",
       "      <td>Y</td>\n",
       "      <td>N</td>\n",
       "      <td>226600.0</td>\n",
       "      <td>0.0</td>\n",
       "      <td>NOT COLLISION W/MOTOR VEHICLE-TRANSPORT</td>\n",
       "      <td>...</td>\n",
       "      <td>FENCE</td>\n",
       "      <td>HOBBS RD &amp; LEXINGTON GREEN</td>\n",
       "      <td>NASHVILLE</td>\n",
       "      <td>TN</td>\n",
       "      <td>37215.0</td>\n",
       "      <td>6113.0</td>\n",
       "      <td>WEST</td>\n",
       "      <td>36.10224</td>\n",
       "      <td>-86.83244</td>\n",
       "      <td>HOBBS RD &amp;amp; LEXINGTON GREEN\\nNASHVILLE, TN ...</td>\n",
       "    </tr>\n",
       "    <tr>\n",
       "      <th>4</th>\n",
       "      <td>20160016827</td>\n",
       "      <td>01/06/2017 08:15:00 AM</td>\n",
       "      <td>3</td>\n",
       "      <td>0</td>\n",
       "      <td>0</td>\n",
       "      <td>NaN</td>\n",
       "      <td>N</td>\n",
       "      <td>591936.0</td>\n",
       "      <td>3.0</td>\n",
       "      <td>REAR-TO-REAR</td>\n",
       "      <td>...</td>\n",
       "      <td>MOTOR VEHICLE IN TRANSPORT</td>\n",
       "      <td>AMALIE DR &amp; VILLAGE WAY</td>\n",
       "      <td>NASHVILLE</td>\n",
       "      <td>TN</td>\n",
       "      <td>37211.0</td>\n",
       "      <td>8655.0</td>\n",
       "      <td>MIDTOW</td>\n",
       "      <td>36.04577</td>\n",
       "      <td>-86.72522</td>\n",
       "      <td>AMALIE DR &amp;amp; VILLAGE WAY\\nNASHVILLE, TN 372...</td>\n",
       "    </tr>\n",
       "  </tbody>\n",
       "</table>\n",
       "<p>5 rows × 25 columns</p>\n",
       "</div>"
      ],
      "text/plain": [
       "   Accident Number           Date and Time  Number of Motor Vehicles  \\\n",
       "0      20110822774  03/29/2017 07:21:00 AM                         2   \n",
       "1      20150551770  06/23/2017 12:49:00 PM                         4   \n",
       "2      20160003224  01/02/2017 09:55:00 AM                         1   \n",
       "3      20160016701  01/06/2017 08:00:00 AM                         1   \n",
       "4      20160016827  01/06/2017 08:15:00 AM                         3   \n",
       "\n",
       "   Number of Injuries  Number of Fatalities Property Damage Hit and Run  \\\n",
       "0                   0                     0             NaN           N   \n",
       "1                   1                     1             NaN           N   \n",
       "2                   0                     0             NaN           N   \n",
       "3                   0                     0               Y           N   \n",
       "4                   0                     0             NaN           N   \n",
       "\n",
       "   Reporting Officer  Collision Type               Collision Type Description  \\\n",
       "0           256439.0            11.0                            Front to Rear   \n",
       "1           405404.0             4.0                                    ANGLE   \n",
       "2           225886.0             0.0  NOT COLLISION W/MOTOR VEHICLE-TRANSPORT   \n",
       "3           226600.0             0.0  NOT COLLISION W/MOTOR VEHICLE-TRANSPORT   \n",
       "4           591936.0             3.0                             REAR-TO-REAR   \n",
       "\n",
       "                         ...                          \\\n",
       "0                        ...                           \n",
       "1                        ...                           \n",
       "2                        ...                           \n",
       "3                        ...                           \n",
       "4                        ...                           \n",
       "\n",
       "    Harmful Codes Description                   Street Address       City  \\\n",
       "0  MOTOR VEHICLE IN TRANSPORT                    MM 210 7 I 40  NASHVILLE   \n",
       "1  MOTOR VEHICLE IN TRANSPORT   CHARLOTTE PKE & I40 E ENT RAMP  NASHVILLE   \n",
       "2                 BRIDGE RAIL  I40 W ENT RAMP & I40 E EXT RAMP  HERMITAGE   \n",
       "3                       FENCE       HOBBS RD & LEXINGTON GREEN  NASHVILLE   \n",
       "4  MOTOR VEHICLE IN TRANSPORT          AMALIE DR & VILLAGE WAY  NASHVILLE   \n",
       "\n",
       "  State      Zip     RPA Precinct  Latitude Longitude  \\\n",
       "0    TN  37210.0  8202.0   HERMIT  36.15323 -86.76442   \n",
       "1    TN  37205.0  5007.0     WEST  36.13188 -86.89553   \n",
       "2    TN  37076.0  9506.0   HERMIT  36.17553 -86.60592   \n",
       "3    TN  37215.0  6113.0     WEST  36.10224 -86.83244   \n",
       "4    TN  37211.0  8655.0   MIDTOW  36.04577 -86.72522   \n",
       "\n",
       "                                     Mapped Location  \n",
       "0  MM 210 7 I 40\\nNASHVILLE, TN 37210\\n(36.153230...  \n",
       "1  CHARLOTTE PKE &amp; I40 E ENT RAMP\\nNASHVILLE,...  \n",
       "2  I40 W ENT RAMP &amp; I40 E EXT RAMP\\nHERMITAGE...  \n",
       "3  HOBBS RD &amp; LEXINGTON GREEN\\nNASHVILLE, TN ...  \n",
       "4  AMALIE DR &amp; VILLAGE WAY\\nNASHVILLE, TN 372...  \n",
       "\n",
       "[5 rows x 25 columns]"
      ]
     },
     "execution_count": 2,
     "metadata": {},
     "output_type": "execute_result"
    }
   ],
   "source": [
    "# Read the csv file into a DataFrame object using pandas. read_csv() is extremely powerful and has many features.\n",
    "data = pd.read_csv(\"Metro_Nashville___Davidson_County_Traffic_Crashes__2017_.csv\")\n",
    "\n",
    "# Print some info about our data \n",
    "print(data.columns)\n",
    "print(data.shape)\n",
    "\n",
    "# Preview our data using .head()\n",
    "# Do this at the end of the cell! Jupyter prints the last line of anything inline.\n",
    "data.head() "
   ]
  },
  {
   "cell_type": "markdown",
   "metadata": {},
   "source": [
    "# How many vehicles are involved in accidents by the hour of day?\n",
    "We answer this by looking at the data, filtering the data we want, and manipulating it. "
   ]
  },
  {
   "cell_type": "code",
   "execution_count": 3,
   "metadata": {},
   "outputs": [
    {
     "data": {
      "text/html": [
       "<div>\n",
       "<table border=\"1\" class=\"dataframe\">\n",
       "  <thead>\n",
       "    <tr style=\"text-align: right;\">\n",
       "      <th></th>\n",
       "      <th>id</th>\n",
       "      <th>datetime</th>\n",
       "      <th>num</th>\n",
       "    </tr>\n",
       "  </thead>\n",
       "  <tbody>\n",
       "    <tr>\n",
       "      <th>0</th>\n",
       "      <td>20110822774</td>\n",
       "      <td>2017-03-29 07:21:00</td>\n",
       "      <td>2</td>\n",
       "    </tr>\n",
       "    <tr>\n",
       "      <th>1</th>\n",
       "      <td>20150551770</td>\n",
       "      <td>2017-06-23 12:49:00</td>\n",
       "      <td>4</td>\n",
       "    </tr>\n",
       "    <tr>\n",
       "      <th>2</th>\n",
       "      <td>20160003224</td>\n",
       "      <td>2017-01-02 09:55:00</td>\n",
       "      <td>1</td>\n",
       "    </tr>\n",
       "    <tr>\n",
       "      <th>3</th>\n",
       "      <td>20160016701</td>\n",
       "      <td>2017-01-06 08:00:00</td>\n",
       "      <td>1</td>\n",
       "    </tr>\n",
       "    <tr>\n",
       "      <th>4</th>\n",
       "      <td>20160016827</td>\n",
       "      <td>2017-01-06 08:15:00</td>\n",
       "      <td>3</td>\n",
       "    </tr>\n",
       "  </tbody>\n",
       "</table>\n",
       "</div>"
      ],
      "text/plain": [
       "            id            datetime  num\n",
       "0  20110822774 2017-03-29 07:21:00    2\n",
       "1  20150551770 2017-06-23 12:49:00    4\n",
       "2  20160003224 2017-01-02 09:55:00    1\n",
       "3  20160016701 2017-01-06 08:00:00    1\n",
       "4  20160016827 2017-01-06 08:15:00    3"
      ]
     },
     "execution_count": 3,
     "metadata": {},
     "output_type": "execute_result"
    }
   ],
   "source": [
    "# Make list of the columns we actually need\n",
    "target_cols = ['Accident Number','Date and Time','Number of Motor Vehicles']\n",
    "\n",
    "# Create the new dataframe 'data_crashes' by indexing by target_cols. You are just selecting the columns you want.\n",
    "data_crashes = data[target_cols]\n",
    "\n",
    "# Rename column names for ease. .rename() takes a map as an argument.\n",
    "# Note: rename() returns a DataFrame and we need to reassign this to data_crashes because it is not an 'inplace' func by itself.\n",
    "data_crashes = data_crashes.rename(columns = {'Accident Number':'id','Date and Time':'datetime','Number of Motor Vehicles':'num'})\n",
    "\n",
    "# Convert the datetime column into a DateTime type column. Pandas parses this info automatically and is usually pretty good at it.\n",
    "data_crashes['datetime'] = pd.to_datetime(data_crashes['datetime'])\n",
    "\n",
    "# Preview!\n",
    "data_crashes.head()"
   ]
  },
  {
   "cell_type": "code",
   "execution_count": 40,
   "metadata": {
    "collapsed": true
   },
   "outputs": [],
   "source": [
    "# Aggregate rows in the same hour by summing the number of vehicle crashes \n",
    "crashes_by_hour = data_crashes.groupby(data_crashes['datetime'].dt.hour)['num'].sum()"
   ]
  },
  {
   "cell_type": "markdown",
   "metadata": {},
   "source": [
    "#### A note on `groupby`: \n",
    "This is a hard function. The factor we group by is `data_crashes['datetime'].dt.hour`. We know we can select the `datetime` column from our dataframe by indexing. The following attributes are:\n",
    "- `dt`: get the datetime format of the column. An attribute of a DateTime type object.\n",
    "- `hour`: get the hour of the DateTime object. \n",
    "Notice that this operates on the entire column at once. In pandas you don't need to do line-by-line code often, but rather use column-wide functions. \n",
    "\n",
    "`data_crashes.groupby(data_crashes['datetime'].dt.hour)` returns a **groupby object**. We index this by ['num'], and apply the `sum()` function, which finally aggregates by 'num' with the condition that rows are now grouped by hour of day."
   ]
  },
  {
   "cell_type": "code",
   "execution_count": 41,
   "metadata": {
    "scrolled": true
   },
   "outputs": [
    {
     "data": {
      "text/plain": [
       "<Container object of 24 artists>"
      ]
     },
     "execution_count": 41,
     "metadata": {},
     "output_type": "execute_result"
    },
    {
     "data": {
      "image/png": "[encoded data removed]",
      "text/plain": [
       "<matplotlib.figure.Figure at 0x27748207358>"
      ]
     },
     "metadata": {},
     "output_type": "display_data"
    }
   ],
   "source": [
    "plt.bar(range(24),crashes_by_hour)"
   ]
  },
  {
   "cell_type": "markdown",
   "metadata": {},
   "source": [
    "# Accidents over time (Example of a bad plot)"
   ]
  },
  {
   "cell_type": "code",
   "execution_count": 13,
   "metadata": {},
   "outputs": [
    {
     "data": {
      "text/plain": [
       "[<matplotlib.lines.Line2D at 0x1872cdf8278>]"
      ]
     },
     "execution_count": 13,
     "metadata": {},
     "output_type": "execute_result"
    },
    {
     "data": {
      "image/png": "[encoded data removed]",
      "text/plain": [
       "<matplotlib.figure.Figure at 0x1872cbd81d0>"
      ]
     },
     "metadata": {},
     "output_type": "display_data"
    }
   ],
   "source": [
    "data_crashes = data_crashes.sort_values(\"datetime\")\n",
    "plt.figure(figsize=(12,4))\n",
    "plt.plot(data_crashes['datetime'], data_crashes['num'])"
   ]
  },
  {
   "cell_type": "markdown",
   "metadata": {},
   "source": [
    "### The high frequency discrete data makes it hard for us to interpret as a time series. It makes more sense for us to try to find another way to represent this data - like monthly mean of vehicles involved in accidents."
   ]
  },
  {
   "cell_type": "code",
   "execution_count": 11,
   "metadata": {},
   "outputs": [
    {
     "name": "stdout",
     "output_type": "stream",
     "text": [
      "datetime\n",
      "1     1.909460\n",
      "2     1.963688\n",
      "3     1.961165\n",
      "4     1.947208\n",
      "5     1.959285\n",
      "6     1.965322\n",
      "7     1.961759\n",
      "8     1.962099\n",
      "9     1.955918\n",
      "10    1.963392\n",
      "11    1.951910\n",
      "12    1.958995\n",
      "Name: num, dtype: float64\n"
     ]
    },
    {
     "data": {
      "text/plain": [
       "[<matplotlib.lines.Line2D at 0x1872cb47c18>]"
      ]
     },
     "execution_count": 11,
     "metadata": {},
     "output_type": "execute_result"
    },
    {
     "data": {
      "image/png": "[encoded data removed]",
      "text/plain": [
       "<matplotlib.figure.Figure at 0x1872ca61f60>"
      ]
     },
     "metadata": {},
     "output_type": "display_data"
    }
   ],
   "source": [
    "crashes_by_month = data_crashes[data_crashes['num']<=6].groupby(data_crashes['datetime'].dt.month)['num'].mean()\n",
    "\n",
    "print(crashes_by_month)\n",
    "plt.plot(range(1,13),crashes_by_month)"
   ]
  },
  {
   "cell_type": "markdown",
   "metadata": {},
   "source": [
    "# Map plot of accidents "
   ]
  },
  {
   "cell_type": "code",
   "execution_count": 50,
   "metadata": {},
   "outputs": [
    {
     "data": {
      "text/plain": [
       "<matplotlib.collections.PathCollection at 0x1f810194f60>"
      ]
     },
     "execution_count": 50,
     "metadata": {},
     "output_type": "execute_result"
    },
    {
     "data": {
      "image/png": "[encoded data removed]",
      "text/plain": [
       "<matplotlib.figure.Figure at 0x1f81077ffd0>"
      ]
     },
     "metadata": {},
     "output_type": "display_data"
    }
   ],
   "source": [
    "data_map = data[data['Latitude']!=0]\n",
    "plt.scatter(data_map['Latitude'],data_map['Longitude'])"
   ]
  },
  {
   "cell_type": "markdown",
   "metadata": {},
   "source": [
    "# General notes\n",
    "\n",
    "- pandas is built on matplotlib and numpy, it is the primary library you use for data science in Python if you don't fool around\n",
    "- *helpful*: if you're doing a complex manipulation, it is helpful to run partial statements and iteratively see how the data shape changes to decide on the next step. (this is like old-school debugging)\n",
    "- There are a lot of aspects of data science to explore - we just touched on data exploration today. Machine learning is another huge field, and you may see packages like `statsmodels`, `sklearn`, or `keras` in the future. These are all tools to make sense of data and use it to our benefit.\n",
    "- 80% of ML is data work. If you've mastered pandas, you are a very valuable person."
   ]
  }
 ],
 "metadata": {
  "anaconda-cloud": {},
  "kernelspec": {
   "display_name": "Python [default]",
   "language": "python",
   "name": "python3"
  },
  "language_info": {
   "codemirror_mode": {
    "name": "ipython",
    "version": 3
   },
   "file_extension": ".py",
   "mimetype": "text/x-python",
   "name": "python",
   "nbconvert_exporter": "python",
   "pygments_lexer": "ipython3",
   "version": "3.5.3"
  }
 },
 "nbformat": 4,
 "nbformat_minor": 1
}
